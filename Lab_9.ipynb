{
  "nbformat": 4,
  "nbformat_minor": 0,
  "metadata": {
    "colab": {
      "provenance": [],
      "authorship_tag": "ABX9TyM1KpYZIGh6RuMHcRSzPSKe",
      "include_colab_link": true
    },
    "kernelspec": {
      "name": "python3",
      "display_name": "Python 3"
    },
    "language_info": {
      "name": "python"
    }
  },
  "cells": [
    {
      "cell_type": "markdown",
      "metadata": {
        "id": "view-in-github",
        "colab_type": "text"
      },
      "source": [
        "<a href=\"https://colab.research.google.com/github/alirajpoot167/alirajpoot167/blob/main/Lab_9.ipynb\" target=\"_parent\"><img src=\"https://colab.research.google.com/assets/colab-badge.svg\" alt=\"Open In Colab\"/></a>"
      ]
    },
    {
      "cell_type": "markdown",
      "source": [
        "# **Task 1**"
      ],
      "metadata": {
        "id": "r39vClxHrqF6"
      }
    },
    {
      "cell_type": "code",
      "execution_count": 7,
      "metadata": {
        "colab": {
          "base_uri": "https://localhost:8080/"
        },
        "id": "fFMCKO2eYR0Q",
        "outputId": "912ff23d-7d35-4169-b868-33fab3f077ca"
      },
      "outputs": [
        {
          "output_type": "stream",
          "name": "stdout",
          "text": [
            "Hello\n",
            "Fun\n",
            "Zip\n",
            "Hello\n",
            "Fun\n"
          ]
        }
      ],
      "source": [
        "def thing():\n",
        " print('Hello')\n",
        " print('Fun')\n",
        "thing()\n",
        "print('Zip')\n",
        "thing()"
      ]
    },
    {
      "cell_type": "markdown",
      "source": [
        "# **Task 2**"
      ],
      "metadata": {
        "id": "WqhpA6v6YmB1"
      }
    },
    {
      "cell_type": "code",
      "source": [
        "def addtwo(a, b):\n",
        "  added = a + b\n",
        "  return added\n",
        "x= addtwo(3,5)\n",
        "print(x)"
      ],
      "metadata": {
        "colab": {
          "base_uri": "https://localhost:8080/"
        },
        "id": "1vaY9rvWYmxj",
        "outputId": "eb063b4e-043a-41e1-cc86-830a3b9c79d2"
      },
      "execution_count": 8,
      "outputs": [
        {
          "output_type": "stream",
          "name": "stdout",
          "text": [
            "8\n"
          ]
        }
      ]
    },
    {
      "cell_type": "markdown",
      "source": [
        "# **Task 3**"
      ],
      "metadata": {
        "id": "guln0y-cYpA6"
      }
    },
    {
      "cell_type": "code",
      "source": [
        "x = 5\n",
        "print('Hello')\n",
        "def print_lyrics():\n",
        " print(\"I'm a lumberjack, and I'm okay.\")\n",
        " print('I sleep all night and I work all day.')\n",
        " print('Yo')\n",
        "x =x+2\n",
        "print(x)"
      ],
      "metadata": {
        "colab": {
          "base_uri": "https://localhost:8080/"
        },
        "id": "NEYibBdDYpa7",
        "outputId": "8e79e4a6-e733-4a33-eb1e-49d73d77ebad"
      },
      "execution_count": 9,
      "outputs": [
        {
          "output_type": "stream",
          "name": "stdout",
          "text": [
            "Hello\n",
            "7\n"
          ]
        }
      ]
    },
    {
      "cell_type": "markdown",
      "source": [
        "# **Task 4**"
      ],
      "metadata": {
        "id": "MtsLwKJ9rUEO"
      }
    },
    {
      "cell_type": "code",
      "source": [
        "print(float(99) / 100)\n",
        "i = 42\n",
        "print(type(i))\n",
        "f = float(i)\n",
        "print(f)\n",
        "print(type(f))\n",
        "print(1 + 2 * float(3)/4-5)"
      ],
      "metadata": {
        "id": "fX1aYkjsrUVY",
        "outputId": "58fe87eb-3038-4168-dc89-034cdf0d5aaa",
        "colab": {
          "base_uri": "https://localhost:8080/"
        }
      },
      "execution_count": 12,
      "outputs": [
        {
          "output_type": "stream",
          "name": "stdout",
          "text": [
            "0.99\n",
            "<class 'int'>\n",
            "42.0\n",
            "<class 'float'>\n",
            "-2.5\n"
          ]
        }
      ]
    },
    {
      "cell_type": "markdown",
      "source": [
        "# **Task 5**"
      ],
      "metadata": {
        "id": "S5H7MguFrVSX"
      }
    },
    {
      "cell_type": "code",
      "source": [
        "def print_lyrics():\n",
        "    print(\"I'm a lumberjack, and I'm okay.\")\n",
        "    print('I sleep all night and I work all day.')\n",
        "\n",
        "x = 5\n",
        "print('Hello')\n",
        "def print_lyrics():\n",
        "  print(\"I'm a lumberjack, and I'm okay.\")\n",
        "  print('I sleep all night and I work all day.')\n",
        "\n",
        "print('Yo')\n",
        "x =x+2\n",
        "print(x)"
      ],
      "metadata": {
        "id": "g0-NQ8m-rVjM",
        "outputId": "bd93ce90-333b-4be0-96f4-678c6e20a600",
        "colab": {
          "base_uri": "https://localhost:8080/"
        }
      },
      "execution_count": 11,
      "outputs": [
        {
          "output_type": "stream",
          "name": "stdout",
          "text": [
            "Hello\n",
            "Yo\n",
            "7\n"
          ]
        }
      ]
    },
    {
      "cell_type": "markdown",
      "source": [
        "# **Task 6**"
      ],
      "metadata": {
        "id": "KME-KEAgrad2"
      }
    },
    {
      "cell_type": "code",
      "source": [
        "big = max('Hello world')\n",
        "print(big)\n",
        "tiny = min('Hello world')\n",
        "print(tiny)"
      ],
      "metadata": {
        "id": "38K9nmhbrbHl",
        "outputId": "436ff8a2-23b7-41a2-9ea2-d4e51f9bace9",
        "colab": {
          "base_uri": "https://localhost:8080/"
        }
      },
      "execution_count": 10,
      "outputs": [
        {
          "output_type": "stream",
          "name": "stdout",
          "text": [
            "w\n",
            " \n"
          ]
        }
      ]
    }
  ]
}