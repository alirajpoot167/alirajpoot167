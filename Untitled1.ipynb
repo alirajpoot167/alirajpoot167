{
  "nbformat": 4,
  "nbformat_minor": 0,
  "metadata": {
    "colab": {
      "provenance": []
    },
    "kernelspec": {
      "name": "python3",
      "display_name": "Python 3"
    },
    "language_info": {
      "name": "python"
    }
  },
  "cells": [
    {
      "cell_type": "markdown",
      "source": [
        "# **Task 1**"
      ],
      "metadata": {
        "id": "cIdSo3Qo_-lP"
      }
    },
    {
      "cell_type": "code",
      "execution_count": 2,
      "metadata": {
        "colab": {
          "base_uri": "https://localhost:8080/"
        },
        "id": "d922fRIe9UMl",
        "outputId": "e0e92382-1c02-4254-d344-f7bb449400b5"
      },
      "outputs": [
        {
          "output_type": "stream",
          "name": "stdout",
          "text": [
            "First item: apple\n",
            "Last item: kiwi\n"
          ]
        }
      ],
      "source": [
        "# Access List Items\n",
        "fruits = [\"apple\", \"banana\", \"orange\", \"grape\", \"kiwi\"]\n",
        "print(\"First item:\", fruits[0])\n",
        "print(\"Last item:\", fruits[4])"
      ]
    },
    {
      "cell_type": "markdown",
      "source": [
        "# **Task 2**"
      ],
      "metadata": {
        "id": "pKr6eZpsAJt3"
      }
    },
    {
      "cell_type": "code",
      "source": [
        "# Change List Items\n",
        "colors = [\"red\", \"green\", \"yellow\", \"purple\"]\n",
        "colors[1] = \"blue\"\n",
        "print(\"Updated colors:\", colors)\n"
      ],
      "metadata": {
        "colab": {
          "base_uri": "https://localhost:8080/"
        },
        "id": "PUvGSoqt92ke",
        "outputId": "1012be5a-0766-4ef6-d4f4-29eb4ced79eb"
      },
      "execution_count": 3,
      "outputs": [
        {
          "output_type": "stream",
          "name": "stdout",
          "text": [
            "Updated colors: ['red', 'blue', 'yellow', 'purple']\n"
          ]
        }
      ]
    },
    {
      "cell_type": "markdown",
      "source": [
        "# **Task 3**"
      ],
      "metadata": {
        "id": "5nWZUvc2AMPG"
      }
    },
    {
      "cell_type": "code",
      "source": [
        "# Add List Items\n",
        "numbers = [1, 2, 3, 4, 5]\n",
        "numbers.append(10)\n",
        "print(\"Updated numbers:\", numbers)\n",
        "\n"
      ],
      "metadata": {
        "colab": {
          "base_uri": "https://localhost:8080/"
        },
        "id": "0M2CNoMh96NH",
        "outputId": "c624072a-7407-4099-b3b2-b59235e6b3e0"
      },
      "execution_count": 4,
      "outputs": [
        {
          "output_type": "stream",
          "name": "stdout",
          "text": [
            "Updated numbers: [1, 2, 3, 4, 5, 10]\n"
          ]
        }
      ]
    },
    {
      "cell_type": "markdown",
      "source": [
        "# **Task 4**"
      ],
      "metadata": {
        "id": "kjFTYzPwAO_C"
      }
    },
    {
      "cell_type": "code",
      "source": [
        "# Remove List Items\n",
        "animals = [\"dog\", \"cat\", \"lion\", \"elephant\"]\n",
        "del animals[2]\n",
        "print(\"Updated animals:\", animals)\n"
      ],
      "metadata": {
        "colab": {
          "base_uri": "https://localhost:8080/"
        },
        "id": "yirnvwIF98eT",
        "outputId": "043aaf5c-48f9-40ed-b093-4a3d6cbd9770"
      },
      "execution_count": 5,
      "outputs": [
        {
          "output_type": "stream",
          "name": "stdout",
          "text": [
            "Updated animals: ['dog', 'cat', 'elephant']\n"
          ]
        }
      ]
    },
    {
      "cell_type": "markdown",
      "source": [
        "# **Task 5**"
      ],
      "metadata": {
        "id": "mwv9BHOVARUH"
      }
    },
    {
      "cell_type": "code",
      "source": [
        "# Loop Lists\n",
        "cities = [\"New York\", \"London\", \"Paris\", \"Tokyo\"]\n",
        "for city in cities:\n",
        "    print(city)"
      ],
      "metadata": {
        "colab": {
          "base_uri": "https://localhost:8080/"
        },
        "id": "ztDRTy6m_EIQ",
        "outputId": "a4762dab-983d-4c95-dd61-334f1b6e2dd3"
      },
      "execution_count": 6,
      "outputs": [
        {
          "output_type": "stream",
          "name": "stdout",
          "text": [
            "New York\n",
            "London\n",
            "Paris\n",
            "Tokyo\n"
          ]
        }
      ]
    },
    {
      "cell_type": "markdown",
      "source": [
        "# **Task 6**"
      ],
      "metadata": {
        "id": "XX4EdKGdATcT"
      }
    },
    {
      "cell_type": "code",
      "source": [
        "# List Comprehension\n",
        "numbers = [i for i in range(1, 11)]\n",
        "squares = [num ** 2 for num in numbers]\n",
        "print(\"Squared numbers:\", squares)\n"
      ],
      "metadata": {
        "colab": {
          "base_uri": "https://localhost:8080/"
        },
        "id": "j40lgBXw_N4j",
        "outputId": "a3e99c58-02f3-45b2-e7c2-052e55cb0bac"
      },
      "execution_count": 7,
      "outputs": [
        {
          "output_type": "stream",
          "name": "stdout",
          "text": [
            "Squared numbers: [1, 4, 9, 16, 25, 36, 49, 64, 81, 100]\n"
          ]
        }
      ]
    },
    {
      "cell_type": "markdown",
      "source": [
        "# **Task 7**"
      ],
      "metadata": {
        "id": "ND3hKzZZAVVG"
      }
    },
    {
      "cell_type": "code",
      "source": [
        "# Sort Lists\n",
        "names = [\"Alice\", \"Bob\", \"Charlie\", \"David\"]\n",
        "names.sort()\n",
        "print(\"Sorted names:\", names)\n"
      ],
      "metadata": {
        "colab": {
          "base_uri": "https://localhost:8080/"
        },
        "id": "jjCuY4MD_Oh6",
        "outputId": "afb7d711-9a80-4de7-a5f6-e64c2250a669"
      },
      "execution_count": 8,
      "outputs": [
        {
          "output_type": "stream",
          "name": "stdout",
          "text": [
            "Sorted names: ['Alice', 'Bob', 'Charlie', 'David']\n"
          ]
        }
      ]
    },
    {
      "cell_type": "markdown",
      "source": [
        "# **Task 8**"
      ],
      "metadata": {
        "id": "7jiPwvIWAX8L"
      }
    },
    {
      "cell_type": "code",
      "source": [
        "# Copy Lists\n",
        "fruits = [\"apple\", \"banana\", \"orange\"]\n",
        "fruits_copy = fruits.copy()\n",
        "print(\"Copied list:\", fruits_copy)\n"
      ],
      "metadata": {
        "colab": {
          "base_uri": "https://localhost:8080/"
        },
        "id": "eIfe0XCi_Y09",
        "outputId": "a2f6a3a9-c304-4567-963e-3b3cf614bab0"
      },
      "execution_count": 9,
      "outputs": [
        {
          "output_type": "stream",
          "name": "stdout",
          "text": [
            "Copied list: ['apple', 'banana', 'orange']\n"
          ]
        }
      ]
    },
    {
      "cell_type": "markdown",
      "source": [
        "# **Task 9**"
      ],
      "metadata": {
        "id": "rRLAYHWHAZl0"
      }
    },
    {
      "cell_type": "code",
      "source": [
        "# Join Lists\n",
        "list1 = [1, 2, 3]\n",
        "list2 = [4, 5, 6]\n",
        "combined_list = list1 + list2\n",
        "print(\"Combined list:\", combined_list)\n"
      ],
      "metadata": {
        "colab": {
          "base_uri": "https://localhost:8080/"
        },
        "id": "yelBYA2c_bYX",
        "outputId": "e530b3d6-55c9-4737-85a5-8ad60fb8bb72"
      },
      "execution_count": 10,
      "outputs": [
        {
          "output_type": "stream",
          "name": "stdout",
          "text": [
            "Combined list: [1, 2, 3, 4, 5, 6]\n"
          ]
        }
      ]
    },
    {
      "cell_type": "markdown",
      "source": [
        "# **Task 10**"
      ],
      "metadata": {
        "id": "YpmB5LlgAbO9"
      }
    },
    {
      "cell_type": "code",
      "source": [
        "# List Methods\n",
        "fruits = [\"apple\", \"banana\", \"orange\"]\n",
        "fruits.append(\"grape\")\n",
        "print(\"Updated fruits:\", fruits)\n",
        "fruits.pop()\n",
        "print(\"After popping:\", fruits)\n"
      ],
      "metadata": {
        "colab": {
          "base_uri": "https://localhost:8080/"
        },
        "id": "Y0tKLkSv_iqc",
        "outputId": "e904fa72-7fe3-4dfa-991b-9eb7dac2979b"
      },
      "execution_count": 11,
      "outputs": [
        {
          "output_type": "stream",
          "name": "stdout",
          "text": [
            "Updated fruits: ['apple', 'banana', 'orange', 'grape']\n",
            "After popping: ['apple', 'banana', 'orange']\n"
          ]
        }
      ]
    },
    {
      "cell_type": "markdown",
      "source": [
        "# **Task 11**"
      ],
      "metadata": {
        "id": "Ow61icKyAdLI"
      }
    },
    {
      "cell_type": "code",
      "source": [
        "# Combining Lists and List Comprehension\n",
        "list1 = [1, 2, 3, 4, 5]\n",
        "list2 = [6, 7, 8, 9, 10]\n",
        "sum_list = [x + y for x, y in zip(list1, list2)]\n",
        "print(\"Sum list:\", sum_list)\n"
      ],
      "metadata": {
        "colab": {
          "base_uri": "https://localhost:8080/"
        },
        "id": "xEL5HOyY_k3z",
        "outputId": "1c2cfaa5-3b79-44ac-8e79-15df4b817493"
      },
      "execution_count": 12,
      "outputs": [
        {
          "output_type": "stream",
          "name": "stdout",
          "text": [
            "Sum list: [7, 9, 11, 13, 15]\n"
          ]
        }
      ]
    },
    {
      "cell_type": "markdown",
      "source": [
        "# **Task 12**"
      ],
      "metadata": {
        "id": "FpSpZ7SuAegR"
      }
    },
    {
      "cell_type": "code",
      "source": [
        "# Filtering and Sorting\n",
        "numbers = [3, 6, 2, 8, 5, 9, 4, 7]\n",
        "even_numbers = [num for num in numbers if num % 2 == 0]\n",
        "even_numbers.sort(reverse=True)\n",
        "print(\"Sorted even numbers:\", even_numbers)\n",
        "\n"
      ],
      "metadata": {
        "colab": {
          "base_uri": "https://localhost:8080/"
        },
        "id": "ehlCuLoj_nwN",
        "outputId": "47ac595d-707d-47b3-8ebf-5d5f6596149e"
      },
      "execution_count": 13,
      "outputs": [
        {
          "output_type": "stream",
          "name": "stdout",
          "text": [
            "Sorted even numbers: [8, 6, 4, 2]\n"
          ]
        }
      ]
    },
    {
      "cell_type": "markdown",
      "source": [
        "# **Task 13**"
      ],
      "metadata": {
        "id": "GdNAxDT-Af6G"
      }
    },
    {
      "cell_type": "code",
      "source": [
        "# List Slicing and Reversing\n",
        "numbers = list(range(1, 11))\n",
        "even_reverse = numbers[-2::-2]\n",
        "print(\"Even numbers in reverse:\", even_reverse)\n"
      ],
      "metadata": {
        "colab": {
          "base_uri": "https://localhost:8080/"
        },
        "id": "nCuECRT-_p1b",
        "outputId": "281e414d-af3f-4183-8086-66b7608eea2e"
      },
      "execution_count": 14,
      "outputs": [
        {
          "output_type": "stream",
          "name": "stdout",
          "text": [
            "Even numbers in reverse: [9, 7, 5, 3, 1]\n"
          ]
        }
      ]
    },
    {
      "cell_type": "markdown",
      "source": [
        "# **Task 14**"
      ],
      "metadata": {
        "id": "K8qIBsDRAhSx"
      }
    },
    {
      "cell_type": "code",
      "source": [
        "# Combining Lists and List Methods\n",
        "even_numbers = [2, 4, 6, 8, 10]\n",
        "odd_numbers = [1, 3, 5, 7, 9]\n",
        "combined_list = []\n",
        "for even, odd in zip(even_numbers, odd_numbers):\n",
        "    combined_list.append(even)\n",
        "    combined_list.append(odd)\n",
        "print(\"Combined list:\", combined_list)"
      ],
      "metadata": {
        "colab": {
          "base_uri": "https://localhost:8080/",
          "height": 106
        },
        "id": "OFSZUuv-_rao",
        "outputId": "052dbd62-05c4-45bf-faa6-febfac70919e"
      },
      "execution_count": 16,
      "outputs": [
        {
          "output_type": "error",
          "ename": "SyntaxError",
          "evalue": "invalid non-printable character U+00A0 (<ipython-input-16-1109c4f3f204>, line 8)",
          "traceback": [
            "\u001b[0;36m  File \u001b[0;32m\"<ipython-input-16-1109c4f3f204>\"\u001b[0;36m, line \u001b[0;32m8\u001b[0m\n\u001b[0;31m    print(\"Combined list:\", combined_list)\u001b[0m\n\u001b[0m                           ^\u001b[0m\n\u001b[0;31mSyntaxError\u001b[0m\u001b[0;31m:\u001b[0m invalid non-printable character U+00A0\n"
          ]
        }
      ]
    }
  ]
}